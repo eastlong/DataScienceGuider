{
 "cells": [
  {
   "cell_type": "markdown",
   "metadata": {},
   "source": [
    "# JDD-2017京东金融全球数据探索者大赛，信贷需求预测赛题总结\n",
    "\n",
    "12月上半月的半个月的激战，这次比赛的成绩并不理想，但是作为第一次参与的这样的正式的比赛也算学习到比较多的知识了，时间没有白费。对于这次比赛，会在接下来的几天将所写的代码进行重构，顺便参考一位排名17选手的开源代码和提特征思路；同时也会录制一系列完整的视频，记录这个过程，我想着有助于不会写竞赛baseline代码的同学参考。\n",
    "\n",
    "关于这次比赛的一些思考，前几天在我的知乎专栏也写了一篇文章，看看可能会对理解竞赛和这个赛题有所帮助；文章地址，https://zhuanlan.zhihu.com/p/32354021\n",
    "\n",
    "后续也会把录制的视频地址添加上来。敬请期待。"
   ]
  },
  {
   "cell_type": "code",
   "execution_count": null,
   "metadata": {
    "collapsed": true
   },
   "outputs": [],
   "source": []
  }
 ],
 "metadata": {
  "kernelspec": {
   "display_name": "Python 3",
   "language": "python",
   "name": "python3"
  },
  "language_info": {
   "codemirror_mode": {
    "name": "ipython",
    "version": 3
   },
   "file_extension": ".py",
   "mimetype": "text/x-python",
   "name": "python",
   "nbconvert_exporter": "python",
   "pygments_lexer": "ipython3",
   "version": "3.6.2"
  }
 },
 "nbformat": 4,
 "nbformat_minor": 2
}
